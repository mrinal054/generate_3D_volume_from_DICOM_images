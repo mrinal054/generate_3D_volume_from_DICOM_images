{
 "cells": [
  {
   "cell_type": "markdown",
   "metadata": {},
   "source": [
    "## Read DICOM images"
   ]
  },
  {
   "cell_type": "markdown",
   "metadata": {},
   "source": [
    "This code describes various methods of reading DICOM images."
   ]
  },
  {
   "cell_type": "markdown",
   "metadata": {},
   "source": [
    "### Function to read dicom images using ImagePositionPatient"
   ]
  },
  {
   "cell_type": "markdown",
   "metadata": {},
   "source": [
    "* Function `get_dcm` reads dicom files from a directory\n",
    "* It first checks if the DICOM images have `ImagePositionPatient` attribute. If it has, it stores slices according to the `ImagePositionPatient`. Otherwise, it sorts by name.\n",
    "* Input parameter:\n",
    "    `dcm_path`: location of dcm data\n",
    "    \n",
    "* Output:\n",
    "    Returns -   \n",
    "     `dcm_data`: dicom data in a single array <br>\n",
    "     `pix_spacing`: spacing of pixel/voxel <br>\n",
    "     `intensity`: min and max intensity <br>\n",
    "\n",
    "Author @ Mrinal Kanti Dhar"
   ]
  },
  {
   "cell_type": "code",
   "execution_count": 1,
   "metadata": {},
   "outputs": [],
   "source": [
    "import numpy as np\n",
    "import os\n",
    "import pydicom"
   ]
  },
  {
   "cell_type": "code",
   "execution_count": 2,
   "metadata": {},
   "outputs": [],
   "source": [
    "def get_dcm(dcm_path):\n",
    "    dicom_img = []\n",
    "    file_names = []\n",
    "    # Get DICOM image names\n",
    "    for dir_name, sub_dir_list, file_list in os.walk(dcm_path):\n",
    "        for file_name in file_list:\n",
    "            if \".dcm\" in file_name.lower():  # check if it is dcm file \n",
    "                dcm_dir = dir_name\n",
    "                file_names.append(file_name)\n",
    "                dicom_img.append(os.path.join(dir_name,file_name))\n",
    "    \n",
    "    # Get ref file\n",
    "    ref = pydicom.dcmread(dicom_img[0])    \n",
    "    # Get the spacing\n",
    "    pix_dim = (int(ref.Rows), int(ref.Columns), len(dicom_img))\n",
    "    # Get spacing values (in mm)\n",
    "    pix_spacing = (float(ref.PixelSpacing[0]), float(ref.PixelSpacing[1]), float(ref.SliceThickness))    \n",
    "    # Get the data\n",
    "    dcm_data = np.zeros(pix_dim, dtype=ref.pixel_array.dtype)   \n",
    "\n",
    "    # Check if the DICOM file has 'ImagePositionPatient' attribute. Usually it has this attribute. \n",
    "    # If it does not have this attribute, then store the slices by their name. \n",
    "    if hasattr(pydicom.dcmread(dicom_img[0]), 'ImagePositionPatient'):               \n",
    "        # Sort file names according to ImagePositionPatient\n",
    "        imagePositionPatient = [pydicom.dcmread(dicom_img[i]).ImagePositionPatient[-1] for i in range(len(dicom_img))]\n",
    "        ps = np.argsort(imagePositionPatient) #ps: position of the sorted slice locations\n",
    "        sorted_file_names = [file_names[ps[i]] for i in range(len(ps))]\n",
    "        print('DICOM sorted by ImagePositionPatient')          \n",
    "        \n",
    "        # loop through all the DICOM files\n",
    "        idx = 0\n",
    "        for file in sorted_file_names:       \n",
    "            # read the file\n",
    "            ds = pydicom.dcmread(os.path.join(dcm_dir, file))\n",
    "            # store the raw image data\n",
    "            dcm_data[:, :, idx] = ds.pixel_array\n",
    "            idx += 1\n",
    "    else:\n",
    "        print('No ImagePositionPatient. DICOM sorted by name')\n",
    "#         dicom_img.reverse() #uncomment if you want to store in descending order\n",
    "        # loop through all the DICOM files\n",
    "        for file in dicom_img:\n",
    "            # read the file\n",
    "            ds = pydicom.dcmread(os.path.join(dcm_dir, file))\n",
    "            # store the raw image data\n",
    "            dcm_data[:, :, dicom_img.index(file)] = ds.pixel_array                              \n",
    "    \n",
    "    # Get the min and max intensity\n",
    "    intensity = (dcm_data.min(), dcm_data.max())\n",
    "        \n",
    "    return dcm_data, pix_spacing, intensity"
   ]
  },
  {
   "cell_type": "markdown",
   "metadata": {},
   "source": [
    "#### Test run"
   ]
  },
  {
   "cell_type": "code",
   "execution_count": 3,
   "metadata": {},
   "outputs": [
    {
     "name": "stdout",
     "output_type": "stream",
     "text": [
      "DICOM sorted by ImagePositionPatient\n",
      "Dimension:  (400, 400, 280) \n",
      "Voxel spacing:  (0.4, 0.4, 0.4) \n",
      "Intensity range:  (-1000, 6710)\n"
     ]
    }
   ],
   "source": [
    "dcm_loc = 'F:\\dicom1'\n",
    "data, pix_spacing, intensity = get_dcm(dcm_loc)\n",
    "print('Dimension: ', data.shape, \n",
    "      '\\nVoxel spacing: ', pix_spacing, \n",
    "      '\\nIntensity range: ', intensity)"
   ]
  },
  {
   "cell_type": "markdown",
   "metadata": {},
   "source": [
    "### Function to read dicom images using SliceLocation"
   ]
  },
  {
   "cell_type": "markdown",
   "metadata": {},
   "source": [
    "* Function `get_dcm` reads dicom files from a directory\n",
    "* It first checks if the DICOM images have `SliceLocation` attribute. If it has, it stores slices according to the `SliceLocation`. Otherwise, it sorts by name.\n",
    "* Input parameter:\n",
    "    `dcm_path`: location of dcm data\n",
    "    \n",
    "* Output:\n",
    "    Returns -   \n",
    "     `dcm_data`: dicom data in a single array <br>\n",
    "     `pix_spacing`: spacing of pixel/voxel <br>\n",
    "     `intensity`: min and max intensity <br>\n",
    "\n",
    "Author @ Mrinal Kanti Dhar"
   ]
  },
  {
   "cell_type": "code",
   "execution_count": 4,
   "metadata": {},
   "outputs": [],
   "source": [
    "def get_dcm(dcm_path):\n",
    "    dicom_img = []\n",
    "    file_names = []\n",
    "    # Get DICOM image names\n",
    "    for dir_name, sub_dir_list, file_list in os.walk(dcm_path):\n",
    "        for file_name in file_list:\n",
    "            if \".dcm\" in file_name.lower():  # check if it is dcm file \n",
    "                dcm_dir = dir_name\n",
    "                file_names.append(file_name)\n",
    "                dicom_img.append(os.path.join(dir_name,file_name))\n",
    "    \n",
    "    # Get ref file\n",
    "    ref = pydicom.dcmread(dicom_img[0])    \n",
    "    # Get the spacing\n",
    "    pix_dim = (int(ref.Rows), int(ref.Columns), len(dicom_img))\n",
    "    # Get spacing values (in mm)\n",
    "    pix_spacing = (float(ref.PixelSpacing[0]), float(ref.PixelSpacing[1]), float(ref.SliceThickness))    \n",
    "    # Get the data\n",
    "    dcm_data = np.zeros(pix_dim, dtype=ref.pixel_array.dtype)   \n",
    "\n",
    "    # Check if the DICOM file has 'SliceLocation' attribute. It if it has, then store them\n",
    "    # according to the slice location. Otherwise, store them chronologically. \n",
    "    if hasattr(pydicom.dcmread(dicom_img[0]), 'SliceLocation'):               \n",
    "        # Sort file names according to the slice location\n",
    "        sliceLocation = [pydicom.dcmread(dicom_img[i]).SliceLocation for i in range(len(dicom_img))]\n",
    "        ps = np.argsort(sliceLocation) #ps: position of the sorted slice locations\n",
    "        sorted_file_names = [file_names[ps[i]] for i in range(len(ps))]\n",
    "        print('DICOM sorted by slice location')          \n",
    "        \n",
    "        # loop through all the DICOM files\n",
    "        idx = 0\n",
    "        for file in sorted_file_names:       \n",
    "            # read the file\n",
    "            ds = pydicom.dcmread(os.path.join(dcm_dir, file))\n",
    "            # store the raw image data\n",
    "            dcm_data[:, :, idx] = ds.pixel_array\n",
    "            idx += 1\n",
    "    else:\n",
    "        print('No slice location. DICOM sorted by name')\n",
    "#         dicom_img.reverse() #uncomment if you want to store in descending order\n",
    "        # loop through all the DICOM files\n",
    "        for file in dicom_img:\n",
    "            # read the file\n",
    "            ds = pydicom.dcmread(os.path.join(dcm_dir, file))\n",
    "            # store the raw image data\n",
    "            dcm_data[:, :, dicom_img.index(file)] = ds.pixel_array                              \n",
    "    \n",
    "    # Get the min and max intensity\n",
    "    intensity = (dcm_data.min(), dcm_data.max())\n",
    "        \n",
    "    return dcm_data, pix_spacing, intensity"
   ]
  },
  {
   "cell_type": "markdown",
   "metadata": {},
   "source": [
    "#### Test run for DICOM sorted by `SliceLocation`"
   ]
  },
  {
   "cell_type": "code",
   "execution_count": 5,
   "metadata": {},
   "outputs": [
    {
     "name": "stdout",
     "output_type": "stream",
     "text": [
      "DICOM sorted by slice location\n",
      "Dimension:  (400, 400, 280) \n",
      "Voxel spacing:  (0.4, 0.4, 0.4) \n",
      "Intensity range:  (-1000, 6710)\n"
     ]
    }
   ],
   "source": [
    "dcm_loc1 = 'F:\\dicom1'\n",
    "data, pix_spacing, intensity = get_dcm(dcm_loc1)\n",
    "print('Dimension: ', data.shape, \n",
    "      '\\nVoxel spacing: ', pix_spacing, \n",
    "      '\\nIntensity range: ', intensity)"
   ]
  },
  {
   "cell_type": "markdown",
   "metadata": {},
   "source": [
    "#### Test run for DICOM sorted by name"
   ]
  },
  {
   "cell_type": "code",
   "execution_count": 6,
   "metadata": {},
   "outputs": [
    {
     "name": "stdout",
     "output_type": "stream",
     "text": [
      "No slice location. DICOM sorted by name\n",
      "Dimension:  (552, 552, 368) \n",
      "Voxel spacing:  (0.25, 0.25, 0.25) \n",
      "Intensity range:  (0, 8191)\n"
     ]
    }
   ],
   "source": [
    "dcm_loc2 = 'F:\\dicom2'\n",
    "data, pix_spacing, intensity = get_dcm(dcm_loc2)\n",
    "print('Dimension: ', data.shape, \n",
    "      '\\nVoxel spacing: ', pix_spacing, \n",
    "      '\\nIntensity range: ', intensity)"
   ]
  }
 ],
 "metadata": {
  "kernelspec": {
   "display_name": "gputest",
   "language": "python",
   "name": "gputest"
  },
  "language_info": {
   "codemirror_mode": {
    "name": "ipython",
    "version": 3
   },
   "file_extension": ".py",
   "mimetype": "text/x-python",
   "name": "python",
   "nbconvert_exporter": "python",
   "pygments_lexer": "ipython3",
   "version": "3.7.5"
  }
 },
 "nbformat": 4,
 "nbformat_minor": 4
}
